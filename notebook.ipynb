{
  "nbformat": 4,
  "nbformat_minor": 0,
  "metadata": {
    "colab": {
      "provenance": [],
      "gpuType": "T4"
    },
    "kernelspec": {
      "name": "python3",
      "display_name": "Python 3"
    },
    "language_info": {
      "name": "python"
    },
    "accelerator": "GPU"
  },
  "cells": [
    {
      "cell_type": "markdown",
      "source": [
        "# **Assignment 1**"
      ],
      "metadata": {
        "id": "sFcC_FHE-Lx7"
      }
    },
    {
      "cell_type": "markdown",
      "source": [
        "---\n",
        "## 📚 **Introduction**\n",
        "This template notebook is designed to guide you through Assignment 1 of the LLM System course. Follow the steps to set up your environment, implement the required functions, and test your code.\n",
        "\n",
        "### 🚀 **Goal of the Assignment**\n",
        "You will implement a basic deep learning framework, miniTorch, capable of performing operations on tensors with automatic differentiation and necessary operators. You will use this framework to build a simple feedforward neural network for a sentiment classification task.\n",
        "\n",
        "---"
      ],
      "metadata": {
        "id": "FUDDzNFV-Yr7"
      }
    },
    {
      "cell_type": "markdown",
      "source": [
        "## ⚙️ **Environment Setup**\n",
        "First, ensure that you have changed the runtime to **T4 GPU**. Run the following commands to set up your environment."
      ],
      "metadata": {
        "id": "qkQ21W7h-eCq"
      }
    },
    {
      "cell_type": "code",
      "source": [
        "# Clone the starter code repository\n",
        "!git clone https://github.com/llmsystem/llmsys_s25_hw1.git\n",
        "%cd llmsys_s25_hw1"
      ],
      "metadata": {
        "id": "vXnYt1dB-Nb4"
      },
      "execution_count": null,
      "outputs": []
    },
    {
      "cell_type": "code",
      "source": [
        "# Install dependencies\n",
        "!python -m pip install -r requirements.txt\n",
        "!python -m pip install -r requirements.extra.txt\n",
        "!python -m pip install -Ue ."
      ],
      "metadata": {
        "id": "3_hSUoH2-iGn"
      },
      "execution_count": null,
      "outputs": []
    },
    {
      "cell_type": "markdown",
      "source": [
        "---\n",
        "\n",
        "## 🔧 **CUDA Kernel Compilation**\n",
        "You will need to compile the CUDA kernels for this assignment. Run the following command to create the necessary directory and compile the CUDA files.\n",
        "\n",
        "---"
      ],
      "metadata": {
        "id": "ORwEm87d-wdz"
      }
    },
    {
      "cell_type": "code",
      "source": [
        "# Compile CUDA kernels\n",
        "!mkdir -p minitorch/cuda_kernels\n",
        "!nvcc -o minitorch/cuda_kernels/combine.so --shared src/combine.cu -Xcompiler -fPIC"
      ],
      "metadata": {
        "id": "Uk8IZjW9-sci"
      },
      "execution_count": null,
      "outputs": []
    },
    {
      "cell_type": "markdown",
      "source": [
        "## 📋 **Assignment Sections**\n",
        "\n",
        "### 🧮 **Problem 1: Automatic Differentiation**\n",
        "**Goal:** Implement the functions `topological_sort` and `backpropagate` in `minitorch/autodiff.py`.\n",
        "\n",
        "🔧 **Instructions:**\n",
        "1. Navigate to `minitorch/autodiff.py`.\n",
        "2. Locate the placeholders marked with `BEGIN ASSIGN1_1` and `END ASSIGN1_1`.\n",
        "3. Implement the functions based on the assignment description.\n",
        "\n",
        "**Testing:**\n",
        "Run the following command to test your implementation.\n",
        "\n",
        "```python\n",
        "!python -m pytest -l -v -k \"autodiff\"\n",
        "```\n",
        "\n",
        "---"
      ],
      "metadata": {
        "id": "w4qk5ZS0_HcH"
      }
    },
    {
      "cell_type": "code",
      "source": [
        "# Problem 1: Autodiff Tests\n",
        "\n",
        "# TODO: Implement the functions in minitorch/autodiff.py\n",
        "# topological_sort and backpropagate functions\n",
        "\n",
        "!python -m pytest -l -v -k \"autodiff\"\n",
        ""
      ],
      "metadata": {
        "id": "0a0b3024-2uA"
      },
      "execution_count": null,
      "outputs": []
    },
    {
      "cell_type": "markdown",
      "source": [
        "---\n",
        "\n",
        "### 🚀 **Problem 2: CUDA Backend Implementation**\n",
        "\n",
        "In this task, you will implement operators for the CUDA backend by creating efficient GPU-based functions in `src/combine.cu` and connecting them to the Python code in `minitorch/cuda_kernel_ops.py`.\n",
        "\n",
        "#### ✅ **Step 1: Compile the CUDA Kernels**\n",
        "Each time you make changes to the CUDA code, recompile it using the following command:\n",
        "```bash\n",
        "!nvcc -o minitorch/cuda_kernels/combine.so --shared src/combine.cu -Xcompiler -fPIC\n",
        "```\n",
        "\n",
        "#### 🧑‍💻 **Step 2: Implement CUDA Functions in Python**\n",
        "Update the following functions in `minitorch/cuda_kernel_ops.py` to load the compiled CUDA functions:\n",
        "\n",
        "```python\n",
        "class CudaKernelOps(TensorOps):\n",
        "    @staticmethod\n",
        "    def zip(fn: Callable[[float, float], float]):\n",
        "        # Implement zip function using CUDA kernel\n",
        "        ...\n",
        "\n",
        "    @staticmethod\n",
        "    def reduce(fn: Callable[[float, float], float], start: float = 0.0):\n",
        "        # Implement reduce function using CUDA kernel\n",
        "        ...\n",
        "\n",
        "    @staticmethod\n",
        "    def matrix_multiply(a: Tensor, b: Tensor) -\u003E Tensor:\n",
        "        # Implement matrix multiplication using CUDA kernel\n",
        "        ...\n",
        "```\n",
        "\n",
        "#### 🧪 **Step 3: Run Tests to Verify Your Implementation**\n",
        "Use the following commands to verify your functions:\n",
        "\n",
        "- **Run all CUDA tests:**\n",
        "  ```bash\n",
        "  !python -m pytest -l -v -k \"cuda\"\n",
        "  ```\n",
        "\n",
        "- **Run specific tests for each CUDA function:**\n",
        "  - Map function:  \n",
        "    ```bash\n",
        "    !python -m pytest -l -v -k \"cuda_one\"\n",
        "    ```\n",
        "  - Zip function:  \n",
        "    ```bash\n",
        "    !python -m pytest -l -v -k \"cuda_two\"\n",
        "    ```\n",
        "  - Reduce function:  \n",
        "    ```bash\n",
        "    !python -m pytest -l -v -k \"cuda_reduce\"\n",
        "    ```\n",
        "  - Matrix multiplication:  \n",
        "    ```bash\n",
        "    !python -m pytest -l -v -k \"cuda_matmul\"\n",
        "    ```\n"
      ],
      "metadata": {
        "id": "2_CEvR3R_hP8"
      }
    },
    {
      "cell_type": "code",
      "source": [
        "!nvcc -o minitorch/cuda_kernels/combine.so --shared src/combine.cu -Xcompiler -fPIC"
      ],
      "metadata": {
        "id": "xKJGrLp4_gkk"
      },
      "execution_count": null,
      "outputs": []
    },
    {
      "cell_type": "code",
      "source": [
        "# Problem 2: Cuda Kernel Tests\n",
        "!python -m pytest -l -v -k \"cuda\"\n",
        "\n",
        "# Uncomment the following command if you want to separately test the four abstraction functions\n",
        "# !python -m pytest -l -v -k \"cuda_one\"    # map\n",
        "# !python -m pytest -l -v -k \"cuda_two\"    # zip\n",
        "# !python -m pytest -l -v -k \"cuda_reduce\" # reduce\n",
        "# !python -m pytest -l -v -k \"cuda_matmul\" # matrix multiplication\n"
      ],
      "metadata": {
        "id": "XTKV3nYqbRrk"
      },
      "execution_count": null,
      "outputs": []
    },
    {
      "cell_type": "markdown",
      "source": [
        "### 🧠 **Problem 3: Neural Network Architecture**\n",
        "**Goal:** Implement the `Linear` and `Network` classes in `project/run_sentiment.py`.\n",
        "\n",
        "🔧 **Instructions:**\n",
        "1. Navigate to `project/run_sentiment.py`.\n",
        "2. Locate the placeholders marked with `BEGIN ASSIGN1_3` and `END ASSIGN1_3`.\n",
        "3. Implement the functions as per the assignment description.\n",
        "\n",
        "**Testing:**\n",
        "Run the following command to test your neural network implementation.\n",
        "\n",
        "```python\n",
        "!python -m pytest -l -v -k \"network\"\n",
        "```\n",
        "\n",
        "---"
      ],
      "metadata": {
        "id": "zovjezvvccIr"
      }
    },
    {
      "cell_type": "code",
      "source": [
        "# TODO: Implement the Linear and Network classes in project/run_sentiment.py\n",
        "\n",
        "!python -m pytest -l -v -k \"network\""
      ],
      "metadata": {
        "id": "-Gv2pg0fcWP3"
      },
      "execution_count": null,
      "outputs": []
    },
    {
      "cell_type": "markdown",
      "source": [
        "### 📈 **Problem 4: Training and Evaluation**\n",
        "**Goal:** Implement the training and validation loop in the `SentenceSentimentTrain` class in `project/run_sentiment.py`.\n",
        "\n",
        "🔧 **Instructions:**\n",
        "1. Navigate to `project/run_sentiment.py`.\n",
        "2. Locate the placeholders marked with `BEGIN ASSIGN1_4` and `END ASSIGN1_4`.\n",
        "3. Complete the code for training and validation.\n",
        "\n",
        "**Testing:**\n",
        "Run the following command to start training and see the validation results.\n",
        "\n",
        "```python\n",
        "!python project/run_sentiment.py\n",
        "```\n",
        "\n",
        "---"
      ],
      "metadata": {
        "id": "LKz9Ja8Nclln"
      }
    },
    {
      "cell_type": "code",
      "source": [
        "# TODO: Implement the training loop in SentenceSentimentTrain class in project/run_sentiment.py\n",
        "!python project/run_sentiment.py"
      ],
      "metadata": {
        "id": "jvvFJTTmcqcS"
      },
      "execution_count": null,
      "outputs": []
    },
    {
      "cell_type": "markdown",
      "source": [
        "---\n",
        "\n",
        "### 💾 **Submit Your Assignment: Create a ZIP File for Submission**\n",
        "\n",
        "Run the following code to create a `llmsys_s25_hw1.zip` file, which you can download and upload to Canvas:\n",
        "\n",
        "\n",
        "---\n",
        "\n",
        "### 📋 **Instructions for Submission:**\n",
        "1. **Run the cell below.**  \n",
        "   - This will generate a `llmsys_s25_hw1.zip` file containing your entire project.\n",
        "2. **Click the download link** that appears after the cell finishes running.\n",
        "3. **Upload the downloaded ZIP file to Canvas.**\n",
        "\n"
      ],
      "metadata": {
        "id": "EB62HJR-d_3N"
      }
    },
    {
      "cell_type": "code",
      "source": [
        "import shutil\n",
        "\n",
        "# Define the directory to zip\n",
        "dir_to_zip = \"llmsys_s25_hw1\"\n",
        "\n",
        "# Create a zip file\n",
        "output_filename = f\"{dir_to_zip}.zip\"\n",
        "shutil.make_archive(dir_to_zip, 'zip', dir_to_zip)\n",
        "\n",
        "# Provide a download link\n",
        "from google.colab import files\n",
        "files.download(output_filename)\n"
      ],
      "metadata": {
        "colab": {
          "base_uri": "https://localhost:8080/",
          "height": 17
        },
        "id": "MpllLJl_d8TW",
        "outputId": "de44b4a8-dce6-4d2d-f708-73dc85a264ce"
      },
      "execution_count": 11,
      "outputs": [
        {
          "output_type": "display_data",
          "data": {
            "text/plain": [
              "\u003CIPython.core.display.Javascript object\u003E"
            ],
            "application/javascript": [
              "\n",
              "    async function download(id, filename, size) {\n",
              "      if (!google.colab.kernel.accessAllowed) {\n",
              "        return;\n",
              "      }\n",
              "      const div = document.createElement('div');\n",
              "      const label = document.createElement('label');\n",
              "      label.textContent = `Downloading \"${filename}\": `;\n",
              "      div.appendChild(label);\n",
              "      const progress = document.createElement('progress');\n",
              "      progress.max = size;\n",
              "      div.appendChild(progress);\n",
              "      document.body.appendChild(div);\n",
              "\n",
              "      const buffers = [];\n",
              "      let downloaded = 0;\n",
              "\n",
              "      const channel = await google.colab.kernel.comms.open(id);\n",
              "      // Send a message to notify the kernel that we're ready.\n",
              "      channel.send({})\n",
              "\n",
              "      for await (const message of channel.messages) {\n",
              "        // Send a message to notify the kernel that we're ready.\n",
              "        channel.send({})\n",
              "        if (message.buffers) {\n",
              "          for (const buffer of message.buffers) {\n",
              "            buffers.push(buffer);\n",
              "            downloaded += buffer.byteLength;\n",
              "            progress.value = downloaded;\n",
              "          }\n",
              "        }\n",
              "      }\n",
              "      const blob = new Blob(buffers, {type: 'application/binary'});\n",
              "      const a = document.createElement('a');\n",
              "      a.href = window.URL.createObjectURL(blob);\n",
              "      a.download = filename;\n",
              "      div.appendChild(a);\n",
              "      a.click();\n",
              "      div.remove();\n",
              "    }\n",
              "  "
            ]
          },
          "metadata": {

          }
        },
        {
          "output_type": "display_data",
          "data": {
            "text/plain": [
              "\u003CIPython.core.display.Javascript object\u003E"
            ],
            "application/javascript": [
              "download(\"download_c590d498-309a-47b1-9ca0-bf4e9fb09eb0\", \"llmsys_s25_hw1.zip\", 22)"
            ]
          },
          "metadata": {

          }
        }
      ]
    },
    {
      "cell_type": "code",
      "source": [],
      "metadata": {
        "id": "nzTd_c53d86V"
      },
      "execution_count": null,
      "outputs": []
    }
  ]
}